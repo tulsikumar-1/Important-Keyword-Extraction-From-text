{
  "nbformat": 4,
  "nbformat_minor": 0,
  "metadata": {
    "colab": {
      "provenance": [],
      "gpuType": "T4"
    },
    "kernelspec": {
      "name": "python3",
      "display_name": "Python 3"
    },
    "language_info": {
      "name": "python"
    },
    "accelerator": "GPU",
    "gpuClass": "standard"
  },
  "cells": [
    {
      "cell_type": "code",
      "execution_count": null,
      "metadata": {
        "colab": {
          "base_uri": "https://localhost:8080/"
        },
        "id": "UJFWBxVHuHSX",
        "outputId": "efc859cd-4f8e-4ec8-e1aa-36b2bf65cbea"
      },
      "outputs": [
        {
          "output_type": "stream",
          "name": "stdout",
          "text": [
            "Drive already mounted at /content/drive; to attempt to forcibly remount, call drive.mount(\"/content/drive\", force_remount=True).\n"
          ]
        }
      ],
      "source": [
        "from google.colab import drive\n",
        "drive.mount('/content/drive')"
      ]
    },
    {
      "cell_type": "code",
      "source": [
        "import os\n",
        "path= '/content/drive/MyDrive/news dataset/children stories/scraped/'"
      ],
      "metadata": {
        "id": "RYqIiWApuKo0"
      },
      "execution_count": null,
      "outputs": []
    },
    {
      "cell_type": "code",
      "source": [
        "os.chdir(path)"
      ],
      "metadata": {
        "id": "OMzeCujJuMke"
      },
      "execution_count": null,
      "outputs": []
    },
    {
      "cell_type": "code",
      "source": [
        "import pandas as pd\n",
        "df = pd.read_csv('stories.csv')"
      ],
      "metadata": {
        "id": "3UPMCmWbuXpc"
      },
      "execution_count": null,
      "outputs": []
    },
    {
      "cell_type": "code",
      "source": [
        "df.iloc[9]"
      ],
      "metadata": {
        "colab": {
          "base_uri": "https://localhost:8080/"
        },
        "id": "Z79jqZDj58Y8",
        "outputId": "aa1f2e85-c736-4f37-aa1c-e8a88023947c"
      },
      "execution_count": null,
      "outputs": [
        {
          "output_type": "execute_result",
          "data": {
            "text/plain": [
              "title                               Wildfire   |Chapter 3|\n",
              "story    ['|Chapter 3|', 'Oh no.', 'Oh no, no no!', \"Th...\n",
              "class                                            adventure\n",
              "url            https://www.bedtime.com/wildfire-chapter-3/\n",
              "Name: 9, dtype: object"
            ]
          },
          "metadata": {},
          "execution_count": 68
        }
      ]
    },
    {
      "cell_type": "code",
      "source": [
        "len(df)"
      ],
      "metadata": {
        "colab": {
          "base_uri": "https://localhost:8080/"
        },
        "id": "yUhB1p_XuvIi",
        "outputId": "aa23cbf4-f9c3-48f5-9177-cf200b6586c7"
      },
      "execution_count": null,
      "outputs": [
        {
          "output_type": "execute_result",
          "data": {
            "text/plain": [
              "311"
            ]
          },
          "metadata": {},
          "execution_count": 69
        }
      ]
    },
    {
      "cell_type": "code",
      "source": [
        "for i in reversed(range(len(df))):\n",
        "  if df.iloc[i]['title'].find(\"Chapter\") != -1:\n",
        "    df = df.drop(i, axis=0)"
      ],
      "metadata": {
        "id": "RS8B7f-AxOw4"
      },
      "execution_count": null,
      "outputs": []
    },
    {
      "cell_type": "code",
      "source": [
        "len(df)"
      ],
      "metadata": {
        "colab": {
          "base_uri": "https://localhost:8080/"
        },
        "id": "fkmrdNrw5z2y",
        "outputId": "3d1e9f0e-5d40-41c8-abe8-81d0e8e5bc2b"
      },
      "execution_count": null,
      "outputs": [
        {
          "output_type": "execute_result",
          "data": {
            "text/plain": [
              "303"
            ]
          },
          "metadata": {},
          "execution_count": 71
        }
      ]
    },
    {
      "cell_type": "code",
      "source": [
        "import nltk\n",
        "import re\n",
        "\n",
        "def clean_text(text):\n",
        "    # Remove non-alphanumeric characters and convert to lowercase\n",
        "    text = re.sub(r'[^\\w\\s.?,]', '', text.replace('\\\\n', ' ').replace('xa0', ' ')).lower()\n",
        "    \n",
        "    return text"
      ],
      "metadata": {
        "id": "Lq79IE0ix8io",
        "colab": {
          "base_uri": "https://localhost:8080/"
        },
        "outputId": "661258c0-6041-484c-e25d-6130f8b9bb27"
      },
      "execution_count": null,
      "outputs": [
        {
          "output_type": "stream",
          "name": "stderr",
          "text": [
            "[nltk_data] Downloading package stopwords to /root/nltk_data...\n",
            "[nltk_data]   Package stopwords is already up-to-date!\n"
          ]
        }
      ]
    },
    {
      "cell_type": "code",
      "source": [
        "df.iloc[9]"
      ],
      "metadata": {
        "id": "xRswGbIS6R-u",
        "colab": {
          "base_uri": "https://localhost:8080/"
        },
        "outputId": "60cf69f8-0508-4864-c580-30b74b9260c4"
      },
      "execution_count": null,
      "outputs": [
        {
          "output_type": "execute_result",
          "data": {
            "text/plain": [
              "title                                  The Wild West Chase\n",
              "story    ['“Now what?” asked Ivy as she buried her head...\n",
              "class                                            adventure\n",
              "url           https://www.bedtime.com/the-wild-west-chase/\n",
              "Name: 12, dtype: object"
            ]
          },
          "metadata": {},
          "execution_count": 73
        }
      ]
    },
    {
      "cell_type": "code",
      "source": [
        "clean_text(df.iloc[0]['story'])"
      ],
      "metadata": {
        "colab": {
          "base_uri": "https://localhost:8080/",
          "height": 139
        },
        "id": "o_G5mtV9x9cD",
        "outputId": "6e61a63d-522a-4271-dd9c-211b6129e5b8"
      },
      "execution_count": null,
      "outputs": [
        {
          "output_type": "execute_result",
          "data": {
            "text/plain": [
              "'zibo is a little zebra. you know what a zebra looks like, dont you? right, it is a white horse with black stripes, or is it a black horse with white stripes?, who cares? today zibo explores the world. neighing happily, he steps through the green fields. animals understand people when they talk. a dog knows what you want if you ask it to give a paw. a horse that pulls the cart knows when it has to stop. but human beings do not know precisely what the cow wants, when it moos. when a cat meows, you may think that it wants to eat, but what did it actually ask? maybe it wants a piece of the chocolate that you are eating? who knows? lets go back to zibo, who walks through the fields. he meets a cow and says hello, animal. the cow looks up and answers good day to you too. who are you and what is your name? i am a cow and my name is brownie. are you useful? surely, i give milk to my calves and to the children. how are you called? i am zibo, say brownie, do you also give milk to the grownups? i do, zibo, there are millions of cows all over the world that give countless quarts of milk a day to all the people and animals. that is great, bye brownie, says zibo and he moves on., he spots a small animal that creeps out of a flower. it has wings and a yellow abdomen with black stripes, just like him. hi, says zibo and puts his nose near the flower. buzz, buzz, answers the animal. who are you and what is your name? asks zibo. i am a bee and my name is sting. who do you think you are? i am zibo, the zebra, but are you an animal? the bee jumps on zibos nose and says of course i am an animal, but they call me an insect. well, thats weird, says zibo what are you doing and who gave you that funny name? they call me sting, because bees have stings. i can hurt you with my sting but if i can work quietly, i seldom use it. that is different from wasps. they are dangerous. they often get angry and hurt you. their sting is very painful. good to know. what is that work you do? bees extract nectar from the flowers and turn it into honey. that is very healthy for the tall and the small, says the bee and buzzes away. i have never tasted honey, thinks zibo, but if it is that healthy, i will surely try it., a bit further, zibo meets a sheep. hello, animal, says zibo. bèèè, hello, says the sheep. what do you think zibo asks next? of course who are you and what is your name? i am a sheep and my name is curl. what a beautiful name, says zibo i am zibo, are you any useful? i certainly am, i give wool to the people. they knit sweaters that keep them nicely warm. sounds good, but i think sweaters are too hot. are you not cold, zibo? why should i? running around like that in your pyjamas curl laughs. zibo thinks deeply and then he laughs loudly and says of course, curl, you noticed that well, you thick curly ball. when both animals recover from laughing hard, zibo returns home satisfied. what a lovely day this was, he thinks to himself.,  '"
            ],
            "application/vnd.google.colaboratory.intrinsic+json": {
              "type": "string"
            }
          },
          "metadata": {},
          "execution_count": 74
        }
      ]
    },
    {
      "cell_type": "code",
      "source": [
        "for i in range(len(df)):\n",
        "  cleaned=clean_text((df.iloc[i]['story']))\n",
        "  df.iloc[i]['story']=cleaned\n"
      ],
      "metadata": {
        "id": "ls9q00vevhDc"
      },
      "execution_count": null,
      "outputs": []
    },
    {
      "cell_type": "code",
      "source": [
        "df.iloc[0]['story']"
      ],
      "metadata": {
        "colab": {
          "base_uri": "https://localhost:8080/",
          "height": 139
        },
        "id": "wPeNPXOmxYDa",
        "outputId": "d7bfa61b-d9fa-433e-ba05-143b9429c378"
      },
      "execution_count": null,
      "outputs": [
        {
          "output_type": "execute_result",
          "data": {
            "text/plain": [
              "'zibo is a little zebra. you know what a zebra looks like, dont you? right, it is a white horse with black stripes, or is it a black horse with white stripes?, who cares? today zibo explores the world. neighing happily, he steps through the green fields. animals understand people when they talk. a dog knows what you want if you ask it to give a paw. a horse that pulls the cart knows when it has to stop. but human beings do not know precisely what the cow wants, when it moos. when a cat meows, you may think that it wants to eat, but what did it actually ask? maybe it wants a piece of the chocolate that you are eating? who knows? lets go back to zibo, who walks through the fields. he meets a cow and says hello, animal. the cow looks up and answers good day to you too. who are you and what is your name? i am a cow and my name is brownie. are you useful? surely, i give milk to my calves and to the children. how are you called? i am zibo, say brownie, do you also give milk to the grownups? i do, zibo, there are millions of cows all over the world that give countless quarts of milk a day to all the people and animals. that is great, bye brownie, says zibo and he moves on., he spots a small animal that creeps out of a flower. it has wings and a yellow abdomen with black stripes, just like him. hi, says zibo and puts his nose near the flower. buzz, buzz, answers the animal. who are you and what is your name? asks zibo. i am a bee and my name is sting. who do you think you are? i am zibo, the zebra, but are you an animal? the bee jumps on zibos nose and says of course i am an animal, but they call me an insect. well, thats weird, says zibo what are you doing and who gave you that funny name? they call me sting, because bees have stings. i can hurt you with my sting but if i can work quietly, i seldom use it. that is different from wasps. they are dangerous. they often get angry and hurt you. their sting is very painful. good to know. what is that work you do? bees extract nectar from the flowers and turn it into honey. that is very healthy for the tall and the small, says the bee and buzzes away. i have never tasted honey, thinks zibo, but if it is that healthy, i will surely try it., a bit further, zibo meets a sheep. hello, animal, says zibo. bèèè, hello, says the sheep. what do you think zibo asks next? of course who are you and what is your name? i am a sheep and my name is curl. what a beautiful name, says zibo i am zibo, are you any useful? i certainly am, i give wool to the people. they knit sweaters that keep them nicely warm. sounds good, but i think sweaters are too hot. are you not cold, zibo? why should i? running around like that in your pyjamas curl laughs. zibo thinks deeply and then he laughs loudly and says of course, curl, you noticed that well, you thick curly ball. when both animals recover from laughing hard, zibo returns home satisfied. what a lovely day this was, he thinks to himself.,  '"
            ],
            "application/vnd.google.colaboratory.intrinsic+json": {
              "type": "string"
            }
          },
          "metadata": {},
          "execution_count": 76
        }
      ]
    },
    {
      "cell_type": "code",
      "source": [
        "# text_for_keys=[]\n",
        "# for text in df['story']:\n",
        "#   text_for_keys.append(clean_text_for_key(text))"
      ],
      "metadata": {
        "id": "bIcg3cp46mCz"
      },
      "execution_count": null,
      "outputs": []
    },
    {
      "cell_type": "code",
      "source": [
        "pip install git+https://github.com/LIAAD/yake"
      ],
      "metadata": {
        "id": "7bNzhL1z8GRq"
      },
      "execution_count": null,
      "outputs": []
    },
    {
      "cell_type": "code",
      "source": [
        "import yake\n",
        "# top is changed according to setting of the keywords\n",
        "kw_extractor = yake.KeywordExtractor(top=10, stopwords=None)\n",
        "\n",
        "key_yake=[[]]*len(df['story'])\n",
        "value_yake=[[]]*len(df['story'])\n",
        "for i in range(len(df['story'])):\n",
        "  key=[]\n",
        "  value=[]\n",
        "  keywords = kw_extractor.extract_keywords(df.iloc[i]['story'])\n",
        "  for kw, v in keywords:\n",
        "    key.append(kw)\n",
        "    value.append(v)\n",
        "  key_yake[i]=key\n",
        "  value_yake[i]=value\n",
        "    "
      ],
      "metadata": {
        "id": "dmWriXCU8KbE"
      },
      "execution_count": null,
      "outputs": []
    },
    {
      "cell_type": "code",
      "source": [
        "pip install keybert"
      ],
      "metadata": {
        "id": "-J6Nmg7b9IxC"
      },
      "execution_count": null,
      "outputs": []
    },
    {
      "cell_type": "code",
      "source": [
        "from keybert import KeyBERT\n",
        "from tqdm import tqdm\n",
        "kw_model = KeyBERT(model='all-mpnet-base-v2')\n",
        "key_bert=[[]]*len(df['story'])\n",
        "value_bert=[[]]*len(df['story'])\n",
        "for j in tqdm(range(len(df['story']))):\n",
        "  key=[]\n",
        "  value=[]\n",
        "  # top_n is changed according to setting of the keywords\n",
        "  keywords = kw_model.extract_keywords(df.iloc[j]['story'], keyphrase_ngram_range=(1, 3), stop_words='english', highlight=False,top_n=15)\n",
        "  for kw, v in keywords:\n",
        "    key.append(kw)\n",
        "    value.append(v)\n",
        "  key_bert[j]=key\n",
        "  value_bert[j]=value"
      ],
      "metadata": {
        "colab": {
          "base_uri": "https://localhost:8080/"
        },
        "id": "W8kek7ws9Ipl",
        "outputId": "b7718b21-bc34-44fe-bccb-6ef57ae90e7a"
      },
      "execution_count": null,
      "outputs": [
        {
          "output_type": "stream",
          "name": "stderr",
          "text": [
            "100%|██████████| 303/303 [02:55<00:00,  1.73it/s]\n"
          ]
        }
      ]
    },
    {
      "cell_type": "code",
      "source": [
        "key_bert[0]"
      ],
      "metadata": {
        "colab": {
          "base_uri": "https://localhost:8080/"
        },
        "id": "tH6GySiEywD4",
        "outputId": "049b4543-280b-4be3-c7fe-ab5d6cc1019d"
      },
      "execution_count": null,
      "outputs": [
        {
          "output_type": "execute_result",
          "data": {
            "text/plain": [
              "['animal asks zibo',\n",
              " 'zibo zebra animal',\n",
              " 'animal says zibo',\n",
              " 'zibo little zebra',\n",
              " 'little zebra know',\n",
              " 'zebra know',\n",
              " 'answers animal asks',\n",
              " 'asks zibo bee',\n",
              " 'zebra know zebra',\n",
              " 'zibo millions cows',\n",
              " 'zibo meets sheep',\n",
              " 'animals understand',\n",
              " 'know zebra',\n",
              " 'sheep think zibo',\n",
              " 'animal asks']"
            ]
          },
          "metadata": {},
          "execution_count": 79
        }
      ]
    },
    {
      "cell_type": "code",
      "source": [
        "#Removing same word detected by both model and keeping only one words\n",
        "com_keywords=[[]]*len(df)\n",
        "com_scores=[[]]*len(df)\n",
        "# Find the common items and delete them\n",
        "for k in range(len(df)):\n",
        "  for l in range(len(key_yake[k])-1, -1, -1):  # loop backwards through key_yake\n",
        "      if key_yake[k][l] in key_bert[k]:\n",
        "          del key_yake[k][l]\n",
        "          del value_yake[k][l]\n",
        "  com_keywords[k]= key_yake[k]+key_bert[k] \n",
        "  com_scores[k]=value_yake[k]+value_bert[k]"
      ],
      "metadata": {
        "id": "IiIlGAfI9IEz"
      },
      "execution_count": null,
      "outputs": []
    },
    {
      "cell_type": "code",
      "source": [
        "com_keywords[0]"
      ],
      "metadata": {
        "colab": {
          "base_uri": "https://localhost:8080/"
        },
        "id": "0QxRygkVy_cG",
        "outputId": "af19a097-9be7-4081-c749-bfd6f41238f8"
      },
      "execution_count": null,
      "outputs": [
        {
          "output_type": "execute_result",
          "data": {
            "text/plain": [
              "['zibo',\n",
              " 'animal asks zibo',\n",
              " 'zibo zebra animal',\n",
              " 'animal says zibo',\n",
              " 'zibo little zebra',\n",
              " 'little zebra know',\n",
              " 'zebra know',\n",
              " 'answers animal asks',\n",
              " 'asks zibo bee',\n",
              " 'zebra know zebra',\n",
              " 'zibo millions cows',\n",
              " 'zibo meets sheep',\n",
              " 'animals understand',\n",
              " 'know zebra',\n",
              " 'sheep think zibo',\n",
              " 'animal asks']"
            ]
          },
          "metadata": {},
          "execution_count": 82
        }
      ]
    },
    {
      "cell_type": "code",
      "source": [
        "com_scores[0]"
      ],
      "metadata": {
        "id": "FBKNzCp3zBms"
      },
      "execution_count": null,
      "outputs": []
    },
    {
      "cell_type": "code",
      "source": [
        "#appending columns in the dataset\n",
        "df['keywords']=com_keywords\n",
        "df['key_scores']=com_scores"
      ],
      "metadata": {
        "id": "rEln8toZ9H1_"
      },
      "execution_count": null,
      "outputs": []
    },
    {
      "cell_type": "code",
      "source": [
        "df"
      ],
      "metadata": {
        "colab": {
          "base_uri": "https://localhost:8080/",
          "height": 641
        },
        "id": "d3Q2242Ay-no",
        "outputId": "1bf1476e-350b-4a5a-8620-31cceccf524b"
      },
      "execution_count": null,
      "outputs": [
        {
          "output_type": "execute_result",
          "data": {
            "text/plain": [
              "                                    title  \\\n",
              "0                     On the go with Zibo   \n",
              "1                     A Walk in the Woods   \n",
              "2    A penguin, A black egg and an island   \n",
              "3                         To the Princess   \n",
              "4                      The Ultimate Quest   \n",
              "..                                    ...   \n",
              "306                         Hard Decision   \n",
              "307                  HAMILTON THE HAMSTER   \n",
              "308                  The Lion and a Mouse   \n",
              "309                            Friendship   \n",
              "310                  CALLING OF THE LOONS   \n",
              "\n",
              "                                                 story      class  \\\n",
              "0    zibo is a little zebra. you know what a zebra ...  adventure   \n",
              "1    he tapped the surface of the pool with the for...  adventure   \n",
              "2    at dawn i heard a knock on the door, it was sa...  adventure   \n",
              "3    some years ago, i was a young man and i was on...  adventure   \n",
              "4    urrggh, owen grunted, he was in the castle doi...  adventure   \n",
              "..                                                 ...        ...   \n",
              "306  there was a siberian husky, her name was siber...       warm   \n",
              "307  by paula moore once upon a time there was a sm...       warm   \n",
              "308  one day a mouse was in search of food in the f...       warm   \n",
              "309  when is he coming? joseph mumbled, looking dow...       warm   \n",
              "310  mornings stillness was broken by the strange, ...       warm   \n",
              "\n",
              "                                                   url  \\\n",
              "0         https://www.bedtime.com/on-the-go-with-zibo/   \n",
              "1         https://www.bedtime.com/a-walk-in-the-woods/   \n",
              "2    https://www.bedtime.com/a-penguin-a-island-and...   \n",
              "3             https://www.bedtime.com/to-the-princess/   \n",
              "4          https://www.bedtime.com/the-ultimate-quest/   \n",
              "..                                                 ...   \n",
              "306             https://www.bedtime.com/hard-decision/   \n",
              "307      https://www.bedtime.com/hamilton-the-hamster/   \n",
              "308      https://www.bedtime.com/the-lion-and-a-mouse/   \n",
              "309                https://www.bedtime.com/friendship/   \n",
              "310      https://www.bedtime.com/calling-of-the-loons/   \n",
              "\n",
              "                                              keywords  \\\n",
              "0    [zibo, animal asks zibo, zibo zebra animal, an...   \n",
              "1    [tapped the surface, killed snake, daddy kille...   \n",
              "2    [leo, friend leo penguin, penguin friend arm, ...   \n",
              "3    [tim, dark lord need, save princess, quest sav...   \n",
              "4    [owen, owen opened book, book ozan owen, confu...   \n",
              "..                                                 ...   \n",
              "306  [siberia, siberia friends chihuahua, husky sib...   \n",
              "307  [hamilton, man realized hamster, realized hams...   \n",
              "308  [mouse, eaten lion mouse, lion mouse ate, lion...   \n",
              "309  [joseph, joseph sit hunting, tree beautiful co...   \n",
              "310  [colin, loons granddad, kind granddad loons, g...   \n",
              "\n",
              "                                            key_scores  \n",
              "0    [0.025387348146749516, 0.6537, 0.6, 0.5972, 0....  \n",
              "1    [0.027205449786734906, 0.5677, 0.5623, 0.5506,...  \n",
              "2    [0.019581578541566145, 0.4863, 0.486, 0.4798, ...  \n",
              "3    [0.010967980872248788, 0.4723, 0.4687, 0.4658,...  \n",
              "4    [0.005754948475371684, 0.5256, 0.4947, 0.4797,...  \n",
              "..                                                 ...  \n",
              "306  [0.05583160304862795, 0.5427, 0.5231, 0.5123, ...  \n",
              "307  [0.01593256329086396, 0.5882, 0.5447, 0.5373, ...  \n",
              "308  [0.008304854448105347, 0.6406, 0.6278, 0.6157,...  \n",
              "309  [0.01597690593545984, 0.4454, 0.4267, 0.4256, ...  \n",
              "310  [0.028049768270195532, 0.5967, 0.5939, 0.5931,...  \n",
              "\n",
              "[303 rows x 6 columns]"
            ],
            "text/html": [
              "\n",
              "  <div id=\"df-cafcd235-fa3a-437f-ba6e-22fbbf8f3540\">\n",
              "    <div class=\"colab-df-container\">\n",
              "      <div>\n",
              "<style scoped>\n",
              "    .dataframe tbody tr th:only-of-type {\n",
              "        vertical-align: middle;\n",
              "    }\n",
              "\n",
              "    .dataframe tbody tr th {\n",
              "        vertical-align: top;\n",
              "    }\n",
              "\n",
              "    .dataframe thead th {\n",
              "        text-align: right;\n",
              "    }\n",
              "</style>\n",
              "<table border=\"1\" class=\"dataframe\">\n",
              "  <thead>\n",
              "    <tr style=\"text-align: right;\">\n",
              "      <th></th>\n",
              "      <th>title</th>\n",
              "      <th>story</th>\n",
              "      <th>class</th>\n",
              "      <th>url</th>\n",
              "      <th>keywords</th>\n",
              "      <th>key_scores</th>\n",
              "    </tr>\n",
              "  </thead>\n",
              "  <tbody>\n",
              "    <tr>\n",
              "      <th>0</th>\n",
              "      <td>On the go with Zibo</td>\n",
              "      <td>zibo is a little zebra. you know what a zebra ...</td>\n",
              "      <td>adventure</td>\n",
              "      <td>https://www.bedtime.com/on-the-go-with-zibo/</td>\n",
              "      <td>[zibo, animal asks zibo, zibo zebra animal, an...</td>\n",
              "      <td>[0.025387348146749516, 0.6537, 0.6, 0.5972, 0....</td>\n",
              "    </tr>\n",
              "    <tr>\n",
              "      <th>1</th>\n",
              "      <td>A Walk in the Woods</td>\n",
              "      <td>he tapped the surface of the pool with the for...</td>\n",
              "      <td>adventure</td>\n",
              "      <td>https://www.bedtime.com/a-walk-in-the-woods/</td>\n",
              "      <td>[tapped the surface, killed snake, daddy kille...</td>\n",
              "      <td>[0.027205449786734906, 0.5677, 0.5623, 0.5506,...</td>\n",
              "    </tr>\n",
              "    <tr>\n",
              "      <th>2</th>\n",
              "      <td>A penguin, A black egg and an island</td>\n",
              "      <td>at dawn i heard a knock on the door, it was sa...</td>\n",
              "      <td>adventure</td>\n",
              "      <td>https://www.bedtime.com/a-penguin-a-island-and...</td>\n",
              "      <td>[leo, friend leo penguin, penguin friend arm, ...</td>\n",
              "      <td>[0.019581578541566145, 0.4863, 0.486, 0.4798, ...</td>\n",
              "    </tr>\n",
              "    <tr>\n",
              "      <th>3</th>\n",
              "      <td>To the Princess</td>\n",
              "      <td>some years ago, i was a young man and i was on...</td>\n",
              "      <td>adventure</td>\n",
              "      <td>https://www.bedtime.com/to-the-princess/</td>\n",
              "      <td>[tim, dark lord need, save princess, quest sav...</td>\n",
              "      <td>[0.010967980872248788, 0.4723, 0.4687, 0.4658,...</td>\n",
              "    </tr>\n",
              "    <tr>\n",
              "      <th>4</th>\n",
              "      <td>The Ultimate Quest</td>\n",
              "      <td>urrggh, owen grunted, he was in the castle doi...</td>\n",
              "      <td>adventure</td>\n",
              "      <td>https://www.bedtime.com/the-ultimate-quest/</td>\n",
              "      <td>[owen, owen opened book, book ozan owen, confu...</td>\n",
              "      <td>[0.005754948475371684, 0.5256, 0.4947, 0.4797,...</td>\n",
              "    </tr>\n",
              "    <tr>\n",
              "      <th>...</th>\n",
              "      <td>...</td>\n",
              "      <td>...</td>\n",
              "      <td>...</td>\n",
              "      <td>...</td>\n",
              "      <td>...</td>\n",
              "      <td>...</td>\n",
              "    </tr>\n",
              "    <tr>\n",
              "      <th>306</th>\n",
              "      <td>Hard Decision</td>\n",
              "      <td>there was a siberian husky, her name was siber...</td>\n",
              "      <td>warm</td>\n",
              "      <td>https://www.bedtime.com/hard-decision/</td>\n",
              "      <td>[siberia, siberia friends chihuahua, husky sib...</td>\n",
              "      <td>[0.05583160304862795, 0.5427, 0.5231, 0.5123, ...</td>\n",
              "    </tr>\n",
              "    <tr>\n",
              "      <th>307</th>\n",
              "      <td>HAMILTON THE HAMSTER</td>\n",
              "      <td>by paula moore once upon a time there was a sm...</td>\n",
              "      <td>warm</td>\n",
              "      <td>https://www.bedtime.com/hamilton-the-hamster/</td>\n",
              "      <td>[hamilton, man realized hamster, realized hams...</td>\n",
              "      <td>[0.01593256329086396, 0.5882, 0.5447, 0.5373, ...</td>\n",
              "    </tr>\n",
              "    <tr>\n",
              "      <th>308</th>\n",
              "      <td>The Lion and a Mouse</td>\n",
              "      <td>one day a mouse was in search of food in the f...</td>\n",
              "      <td>warm</td>\n",
              "      <td>https://www.bedtime.com/the-lion-and-a-mouse/</td>\n",
              "      <td>[mouse, eaten lion mouse, lion mouse ate, lion...</td>\n",
              "      <td>[0.008304854448105347, 0.6406, 0.6278, 0.6157,...</td>\n",
              "    </tr>\n",
              "    <tr>\n",
              "      <th>309</th>\n",
              "      <td>Friendship</td>\n",
              "      <td>when is he coming? joseph mumbled, looking dow...</td>\n",
              "      <td>warm</td>\n",
              "      <td>https://www.bedtime.com/friendship/</td>\n",
              "      <td>[joseph, joseph sit hunting, tree beautiful co...</td>\n",
              "      <td>[0.01597690593545984, 0.4454, 0.4267, 0.4256, ...</td>\n",
              "    </tr>\n",
              "    <tr>\n",
              "      <th>310</th>\n",
              "      <td>CALLING OF THE LOONS</td>\n",
              "      <td>mornings stillness was broken by the strange, ...</td>\n",
              "      <td>warm</td>\n",
              "      <td>https://www.bedtime.com/calling-of-the-loons/</td>\n",
              "      <td>[colin, loons granddad, kind granddad loons, g...</td>\n",
              "      <td>[0.028049768270195532, 0.5967, 0.5939, 0.5931,...</td>\n",
              "    </tr>\n",
              "  </tbody>\n",
              "</table>\n",
              "<p>303 rows × 6 columns</p>\n",
              "</div>\n",
              "      <button class=\"colab-df-convert\" onclick=\"convertToInteractive('df-cafcd235-fa3a-437f-ba6e-22fbbf8f3540')\"\n",
              "              title=\"Convert this dataframe to an interactive table.\"\n",
              "              style=\"display:none;\">\n",
              "        \n",
              "  <svg xmlns=\"http://www.w3.org/2000/svg\" height=\"24px\"viewBox=\"0 0 24 24\"\n",
              "       width=\"24px\">\n",
              "    <path d=\"M0 0h24v24H0V0z\" fill=\"none\"/>\n",
              "    <path d=\"M18.56 5.44l.94 2.06.94-2.06 2.06-.94-2.06-.94-.94-2.06-.94 2.06-2.06.94zm-11 1L8.5 8.5l.94-2.06 2.06-.94-2.06-.94L8.5 2.5l-.94 2.06-2.06.94zm10 10l.94 2.06.94-2.06 2.06-.94-2.06-.94-.94-2.06-.94 2.06-2.06.94z\"/><path d=\"M17.41 7.96l-1.37-1.37c-.4-.4-.92-.59-1.43-.59-.52 0-1.04.2-1.43.59L10.3 9.45l-7.72 7.72c-.78.78-.78 2.05 0 2.83L4 21.41c.39.39.9.59 1.41.59.51 0 1.02-.2 1.41-.59l7.78-7.78 2.81-2.81c.8-.78.8-2.07 0-2.86zM5.41 20L4 18.59l7.72-7.72 1.47 1.35L5.41 20z\"/>\n",
              "  </svg>\n",
              "      </button>\n",
              "      \n",
              "  <style>\n",
              "    .colab-df-container {\n",
              "      display:flex;\n",
              "      flex-wrap:wrap;\n",
              "      gap: 12px;\n",
              "    }\n",
              "\n",
              "    .colab-df-convert {\n",
              "      background-color: #E8F0FE;\n",
              "      border: none;\n",
              "      border-radius: 50%;\n",
              "      cursor: pointer;\n",
              "      display: none;\n",
              "      fill: #1967D2;\n",
              "      height: 32px;\n",
              "      padding: 0 0 0 0;\n",
              "      width: 32px;\n",
              "    }\n",
              "\n",
              "    .colab-df-convert:hover {\n",
              "      background-color: #E2EBFA;\n",
              "      box-shadow: 0px 1px 2px rgba(60, 64, 67, 0.3), 0px 1px 3px 1px rgba(60, 64, 67, 0.15);\n",
              "      fill: #174EA6;\n",
              "    }\n",
              "\n",
              "    [theme=dark] .colab-df-convert {\n",
              "      background-color: #3B4455;\n",
              "      fill: #D2E3FC;\n",
              "    }\n",
              "\n",
              "    [theme=dark] .colab-df-convert:hover {\n",
              "      background-color: #434B5C;\n",
              "      box-shadow: 0px 1px 3px 1px rgba(0, 0, 0, 0.15);\n",
              "      filter: drop-shadow(0px 1px 2px rgba(0, 0, 0, 0.3));\n",
              "      fill: #FFFFFF;\n",
              "    }\n",
              "  </style>\n",
              "\n",
              "      <script>\n",
              "        const buttonEl =\n",
              "          document.querySelector('#df-cafcd235-fa3a-437f-ba6e-22fbbf8f3540 button.colab-df-convert');\n",
              "        buttonEl.style.display =\n",
              "          google.colab.kernel.accessAllowed ? 'block' : 'none';\n",
              "\n",
              "        async function convertToInteractive(key) {\n",
              "          const element = document.querySelector('#df-cafcd235-fa3a-437f-ba6e-22fbbf8f3540');\n",
              "          const dataTable =\n",
              "            await google.colab.kernel.invokeFunction('convertToInteractive',\n",
              "                                                     [key], {});\n",
              "          if (!dataTable) return;\n",
              "\n",
              "          const docLinkHtml = 'Like what you see? Visit the ' +\n",
              "            '<a target=\"_blank\" href=https://colab.research.google.com/notebooks/data_table.ipynb>data table notebook</a>'\n",
              "            + ' to learn more about interactive tables.';\n",
              "          element.innerHTML = '';\n",
              "          dataTable['output_type'] = 'display_data';\n",
              "          await google.colab.output.renderOutput(dataTable, element);\n",
              "          const docLink = document.createElement('div');\n",
              "          docLink.innerHTML = docLinkHtml;\n",
              "          element.appendChild(docLink);\n",
              "        }\n",
              "      </script>\n",
              "    </div>\n",
              "  </div>\n",
              "  "
            ]
          },
          "metadata": {},
          "execution_count": 84
        }
      ]
    },
    {
      "cell_type": "code",
      "source": [
        "# saving the DataFrame as a CSV file\n",
        "df.to_csv('dataset_with_keys_15b.csv', index=False)"
      ],
      "metadata": {
        "id": "MyB2XeF7zQlg"
      },
      "execution_count": null,
      "outputs": []
    }
  ]
}